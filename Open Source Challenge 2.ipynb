{
 "cells": [
  {
   "cell_type": "markdown",
   "metadata": {},
   "source": [
    "# Change raster grid cell values\n",
    "With arcpy, this is done in a number of ways including Reclassify(http://desktop.arcgis.com/en/arcmap/10.3/tools/spatial-analyst-toolbox/reclassify.htm) and Con(http://desktop.arcgis.com/en/arcmap/10.3/tools/spatial-analyst-toolbox/con-.htm)."
   ]
  },
  {
   "cell_type": "code",
   "execution_count": 13,
   "metadata": {},
   "outputs": [],
   "source": [
    "execfile('T:/Scripts/AppendPaths27.py')   # Running this file enables me to import acrpy\n",
    "import datetime"
   ]
  },
  {
   "cell_type": "markdown",
   "metadata": {},
   "source": [
    "## Goal\n",
    "The goal is to build the function described by the cell below, but should it process one value at a time or allow lists of values to change from and to (e.g., [\"nodata\", 0], [1, 10], [2, 20])?"
   ]
  },
  {
   "cell_type": "code",
   "execution_count": 14,
   "metadata": {},
   "outputs": [],
   "source": [
    "def Reclassify(raster, where, newValue):\n",
    "    '''\n",
    "    (raster object) -> raster object\n",
    "    \n",
    "    Change values of grid cells.\n",
    "    \n",
    "    Arguments:\n",
    "    raster -- a raster (as object or path?)\n",
    "    where -- a where clause for identifying which cell values should change\n",
    "    newValue -- the new value to assign to cells that should change\n",
    "    \n",
    "    Example:\n",
    "    >> reclassified_raster = Reclassify(raster=raster1, where=\"VALUE >= 0\", newValue=10)\n",
    "    '''\n",
    "    reclassified_raster = \"\"# summation\n",
    "    return reclassified_raster"
   ]
  },
  {
   "cell_type": "markdown",
   "metadata": {},
   "source": [
    "## Uses\n",
    "1. Convert values in a grid of \"null\" or \"nodata\" to \"0\".\n",
    "2. Create binary maps of subsets of the land cover ecological systems.\n",
    "3. Calculating how much of species' habitat is in a protection status, land cover type, or other AOI."
   ]
  },
  {
   "cell_type": "markdown",
   "metadata": {},
   "source": [
    "## Environments"
   ]
  },
  {
   "cell_type": "code",
   "execution_count": 15,
   "metadata": {},
   "outputs": [],
   "source": [
    "import arcpy\n",
    "arcpy.ResetEnvironments()\n",
    "arcpy.CheckOutExtension(\"Spatial\")\n",
    "arcpy.env.overwriteOutput=True\n",
    "arcpy.env.extent = \"MAXOF\"\n",
    "arcpy.env.pyramid = 'PYRAMIDS'\n",
    "arcpy.env.snapRaster = \"\" # We use a grid available in here: https://github.com/nmtarr/GAPProduction/tree/master/data\n",
    "arcpy.env.rasterStatistics = \"STATISTICS\"\n",
    "arcpy.env.cellSize = 30"
   ]
  },
  {
   "cell_type": "markdown",
   "metadata": {},
   "source": [
    "## Locations of data"
   ]
  },
  {
   "cell_type": "code",
   "execution_count": 16,
   "metadata": {},
   "outputs": [],
   "source": [
    "workDir = \"T:/Temp/OpenSourceArcpy/\"\n",
    "dataDir = \"P:/Proj3/USGap/Vert/Model/Output/CONUS/TestExtents/\"\n",
    "tinyDir = dataDir + \"Tiny/\"\n",
    "mediumDir = dataDir + \"Medium/\"\n",
    "smallDir = dataDir + \"Small/\""
   ]
  },
  {
   "cell_type": "markdown",
   "metadata": {},
   "source": [
    "## Example 1 - The Reclassify tool"
   ]
  },
  {
   "cell_type": "code",
   "execution_count": 17,
   "metadata": {},
   "outputs": [
    {
     "name": "stdout",
     "output_type": "stream",
     "text": [
      "Reclassify tool method runtime: 0:00:01.279000\n"
     ]
    }
   ],
   "source": [
    "time1 = datetime.datetime.now()\n",
    "raster = arcpy.Raster(tinyDir + \"bAMKEx.tif\")\n",
    "reclassified = arcpy.sa.Reclassify(in_raster=raster, reclass_field=\"VALUE\", remap=arcpy.sa.RemapValue([[1,10]]), \n",
    "                                   missing_values=\"DATA\")\n",
    "time2 = datetime.datetime.now()\n",
    "runtime1 = time2 - time1\n",
    "print(\"Reclassify tool method runtime: {0}\".format(runtime1))\n",
    "reclassified.save(workDir + \"reclassified.tif\")"
   ]
  },
  {
   "cell_type": "markdown",
   "metadata": {},
   "source": [
    "## Example 2 - The Con tool"
   ]
  },
  {
   "cell_type": "code",
   "execution_count": 18,
   "metadata": {},
   "outputs": [
    {
     "name": "stdout",
     "output_type": "stream",
     "text": [
      "Con tool method runtime: 0:00:02.886000\n"
     ]
    }
   ],
   "source": [
    "time3 = datetime.datetime.now()\n",
    "raster = arcpy.Raster(tinyDir + \"bAMKEx.tif\")\n",
    "conned1 = arcpy.sa.Con(in_conditional_raster=raster,\n",
    "                      in_true_raster_or_constant=10,\n",
    "                      where_clause=\"VALUE = 1\")\n",
    "time4 = datetime.datetime.now()\n",
    "runtime2 = time4 - time3\n",
    "print(\"Con tool method runtime: {0}\".format(runtime2))\n",
    "conned1.save(workDir + \"conned1.tif\")"
   ]
  },
  {
   "cell_type": "markdown",
   "metadata": {},
   "source": [
    "Alternatively"
   ]
  },
  {
   "cell_type": "code",
   "execution_count": 19,
   "metadata": {},
   "outputs": [
    {
     "name": "stdout",
     "output_type": "stream",
     "text": [
      "Con tool method 2 runtime: 0:00:00.124000\n"
     ]
    }
   ],
   "source": [
    "time4 = datetime.datetime.now()\n",
    "conned2 = arcpy.sa.Con(raster == 1, raster)\n",
    "time5 = datetime.datetime.now()\n",
    "runtime3 = time5 - time4\n",
    "print(\"Con tool method 2 runtime: {0}\".format(runtime3))\n",
    "conned2.save(workDir + \"conned2.tif\")"
   ]
  },
  {
   "cell_type": "markdown",
   "metadata": {},
   "source": [
    "## Example 3 - Fill in nodata's with zeros"
   ]
  },
  {
   "cell_type": "code",
   "execution_count": 20,
   "metadata": {},
   "outputs": [
    {
     "name": "stdout",
     "output_type": "stream",
     "text": [
      "Fill nodata's runtime: 0:00:00.172000\n"
     ]
    }
   ],
   "source": [
    "time6 = datetime.datetime.now()\n",
    "raster = arcpy.Raster(tinyDir + \"bAMKEx.tif\")\n",
    "con_null = arcpy.sa.Con(arcpy.sa.IsNull(raster), 0, raster)\n",
    "time7 = datetime.datetime.now()\n",
    "runtime4 = time7 - time6\n",
    "print(\"Fill nodata's runtime: {0}\".format(runtime4))\n",
    "con_null.save(workDir + \"con_null.tif\")"
   ]
  }
 ],
 "metadata": {
  "kernelspec": {
   "display_name": "Python 2",
   "language": "python",
   "name": "python2"
  },
  "language_info": {
   "codemirror_mode": {
    "name": "ipython",
    "version": 2
   },
   "file_extension": ".py",
   "mimetype": "text/x-python",
   "name": "python",
   "nbconvert_exporter": "python",
   "pygments_lexer": "ipython2",
   "version": "2.7.15"
  }
 },
 "nbformat": 4,
 "nbformat_minor": 2
}
