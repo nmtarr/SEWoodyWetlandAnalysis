{
 "cells": [
  {
   "cell_type": "markdown",
   "metadata": {},
   "source": [
    "# Sum 2 or more rasters\n",
    "With arcpy, this is done with the Cell Statistics function (http://desktop.arcgis.com/en/arcmap/10.3/tools/spatial-analyst-toolbox/cell-statistics.htm) or by summing raster objects (http://desktop.arcgis.com/en/arcmap/10.3/analyze/arcpy-classes/raster-object.htm)"
   ]
  },
  {
   "cell_type": "code",
   "execution_count": 15,
   "metadata": {},
   "outputs": [],
   "source": [
    "import datetime"
   ]
  },
  {
   "cell_type": "markdown",
   "metadata": {},
   "source": [
    "## Goal\n",
    "The goal is to build the function described by the cell below."
   ]
  },
  {
   "cell_type": "code",
   "execution_count": 16,
   "metadata": {},
   "outputs": [],
   "source": [
    "def sumRasters(rasters):\n",
    "    '''\n",
    "    (list) -> raster object\n",
    "    \n",
    "    Sums rasters from a list and returns a raster representing the sum of all layers at each cell.\n",
    "    \n",
    "    Arguments:\n",
    "    rasters -- a python list of rasters (as objects or paths?)\n",
    "    \n",
    "    Example:\n",
    "    >> summed_rasters = sumRasters([\"PAD_Protection\", \"bAMKEx_habitat_map\"])\n",
    "    '''\n",
    "    summed_raster = \"\"# summation\n",
    "    return summed_raster"
   ]
  },
  {
   "cell_type": "markdown",
   "metadata": {},
   "source": [
    "## Uses\n",
    "1. Species richness calculation<br>\n",
    "2. Running habitat models<br>\n",
    "3. Calculating habitat overlap with areas of interest (e.g., protected areas, risk areas, other areas of interest)<br>\n"
   ]
  },
  {
   "cell_type": "markdown",
   "metadata": {},
   "source": [
    "## Environments\n",
    "Environments affect arcpy function behavior, so it is best and sometimes necessary to define them."
   ]
  },
  {
   "cell_type": "code",
   "execution_count": 17,
   "metadata": {},
   "outputs": [],
   "source": [
    "execfile('T:/Scripts/AppendPaths27.py')   # Running this file enables me to import acrpy\n",
    "import arcpy\n",
    "arcpy.ResetEnvironments()\n",
    "arcpy.CheckOutExtension(\"Spatial\")\n",
    "arcpy.env.overwriteOutput=True\n",
    "arcpy.env.extent = \"MAXOF\"\n",
    "arcpy.env.pyramid = 'PYRAMIDS'\n",
    "arcpy.env.snapRaster = \"\" # We use a grid available in here: https://github.com/nmtarr/GAPProduction/tree/master/data\n",
    "arcpy.env.rasterStatistics = \"STATISTICS\"\n",
    "arcpy.env.cellSize = 30"
   ]
  },
  {
   "cell_type": "markdown",
   "metadata": {},
   "source": [
    "## Locations of data"
   ]
  },
  {
   "cell_type": "code",
   "execution_count": 18,
   "metadata": {},
   "outputs": [],
   "source": [
    "workDir = \"T:/Temp/OpenSourceArcpy/\"\n",
    "dataDir = \"P:/Proj3/USGap/Vert/Model/Output/CONUS/TestExtents/\"\n",
    "tinyDir = dataDir + \"Tiny/\"\n",
    "mediumDir = dataDir + \"Medium/\"\n",
    "smallDir = dataDir + \"Small/\""
   ]
  },
  {
   "cell_type": "markdown",
   "metadata": {},
   "source": [
    "## Example 1 - Sum rasters with Cell Statistics"
   ]
  },
  {
   "cell_type": "markdown",
   "metadata": {},
   "source": [
    "Step 1 - List the rasters to sum"
   ]
  },
  {
   "cell_type": "code",
   "execution_count": 19,
   "metadata": {},
   "outputs": [
    {
     "name": "stdout",
     "output_type": "stream",
     "text": [
      "[u'agptox.tif', u'bamkex.tif', u'batflx.tif', u'bbekix.tif', u'bbethx.tif', u'bbevix.tif', u'bbewrx.tif', u'bbggnx.tif', u'bblphx.tif', u'bbrblx.tif', u'bbtgnx.tif', u'bbtspx.tif', u'bbtywx.tif', u'bbuffx.tif', u'bbuowh.tif', u'bbuowx.tif', u'bcacwx.tif', u'bcanwx.tif', u'bcogdx.tif', u'bcohux.tif', u'bcopox.tif', u'bcorax.tif', u'bewcsx.tif', u'bfehax.tif', u'bgaqux.tif', u'bghowx.tif', u'bgoeax.tif', u'bgrrox.tif', u'bholax.tif', u'bkillx.tif', u'blbwox.tif', u'blcthx.tif', u'blenix.tif', u'bleowx.tif', u'blispx.tif', u'bloshx.tif', u'bmerlx.tif', u'bmodox.tif', u'bnohax.tif', u'bnomox.tif', u'bnrwsx.tif', u'bnshrx.tif', u'bpefax.tif', u'bprfax.tif', u'brckix.tif', u'brlhax.tif', u'browrx.tif', u'brthax.tif', u'bsagsa.tif', u'bsagsn.tif', u'bsagsx.tif', u'bsaphx.tif', u'bseowx.tif', u'btuvux.tif', u'bverdx.tif', u'bvgswx.tif', u'bwekix.tif', u'bwtswx.tif', u'byrwax.tif', u'mabebx.tif', u'mambax.tif', u'mapmox.tif', u'mazwox.tif', u'mbbbax.tif', u'mbftbx.tif', u'mbobcx.tif', u'mbogox.tif', u'mbtjax.tif', u'mcamyx.tif', u'mccdex.tif', u'mclebx.tif', u'mcndex.tif', u'mcougx.tif', u'mcoyox.tif', u'mcrgsx.tif', u'mfrmyx.tif', u'mgbbax.tif', u'mhasqx.tif', u'mkifox.tif', u'mllmyx.tif', u'mmftbx.tif', u'mmkrax.tif', u'mmudex.tif', u'mpabax.tif', u'mringx.tif', u'mrosqx.tif', u'mrpmox.tif', u'mrtgsx.tif', u'msgmox.tif', u'mspbax.tif', u'mstskx.tif', u'mtbebt.tif', u'mtbebx.tif', u'mwepix.tif', u'mwsfmx.tif', u'mwthwx.tif', u'myumyx.tif', u'rcchux.tif', u'rckinx.tif', u'rcoacx.tif', u'rcsblx.tif', u'rdeigx.tif', u'rdenix.tif', u'rdetox.tif', u'rdhlix.tif', u'rdnlix.tif', u'rdslix.tif', u'rgbclx.tif', u'rgelix.tif', u'rgimox.tif', u'rglsnx.tif', u'rgophx.tif', u'rlnllx.tif', u'rlnsnx.tif', u'rmorax.tif', u'rotlix.tif', u'rrobox.tif', u'rsbhsx.tif', u'rsidex.tif', u'rsplsx.tif', u'rsratx.tif', u'rstwhx.tif', u'rtiwhx.tif', u'rwbgex.tif', u'rwdbrx.tif', u'rwelyx.tif', u'rwethx.tif', u'rwgrox.tif', u'rwpnsx.tif', u'rwsnsx.tif', u'rybslx.tif', u'rztlix.tif']\n"
     ]
    }
   ],
   "source": [
    "arcpy.env.workspace = tinyDir\n",
    "rasters = arcpy.ListRasters()"
   ]
  },
  {
   "cell_type": "markdown",
   "metadata": {},
   "source": [
    "Step 2 - Run cell statistics <br>NOTE the issue of \"nodata\" !!!"
   ]
  },
  {
   "cell_type": "code",
   "execution_count": 20,
   "metadata": {},
   "outputs": [
    {
     "name": "stdout",
     "output_type": "stream",
     "text": [
      "Cell statistics method runtime: 0:00:44.865000\n"
     ]
    }
   ],
   "source": [
    "time1 = datetime.datetime.now()\n",
    "cell_stat_sum = arcpy.sa.CellStatistics(in_rasters_or_constants=rasters, \n",
    "                                        statistics_type=\"SUM\", \n",
    "                                       ignore_nodata=\"DATA\")\n",
    "time2 = datetime.datetime.now()\n",
    "runtime1 = time2 - time1\n",
    "print(\"Cell statistics method runtime: {0}\".format(runtime1))\n",
    "\n",
    "cell_stat_sum.save(workDir + \"cell_stat_sum.tif\")"
   ]
  },
  {
   "cell_type": "markdown",
   "metadata": {},
   "source": [
    "## Example 2 - Sum rasters with raster algebra"
   ]
  },
  {
   "cell_type": "markdown",
   "metadata": {},
   "source": [
    "Step 1 - List the rasters to sum"
   ]
  },
  {
   "cell_type": "code",
   "execution_count": 21,
   "metadata": {},
   "outputs": [],
   "source": [
    "arcpy.env.workspace = tinyDir\n",
    "rasters2 = arcpy.ListRasters()"
   ]
  },
  {
   "cell_type": "markdown",
   "metadata": {},
   "source": [
    "Step 2 - Sum the rasters <br>\n",
    "NOTE AGAIN the issue of \"nodata\" cells comes up again.  The output from the cell below is empty because of nodata cells.  "
   ]
  },
  {
   "cell_type": "code",
   "execution_count": 22,
   "metadata": {},
   "outputs": [
    {
     "name": "stdout",
     "output_type": "stream",
     "text": [
      "Cell statistics method runtime: 0:01:14.188000\n"
     ]
    }
   ],
   "source": [
    "time3 = datetime.datetime.now()\n",
    "running_total = arcpy.Raster(rasters2[0])\n",
    "for raster in rasters2:\n",
    "    running_total += arcpy.Raster(raster)\n",
    "time4 = datetime.datetime.now()\n",
    "runtime2 = time4 - time3\n",
    "print(\"Cell statistics method runtime: {0}\".format(runtime2))\n",
    "running_total.save(workDir + \"running_total.tif\")"
   ]
  },
  {
   "cell_type": "markdown",
   "metadata": {},
   "source": [
    "To use this method, you first have to fill in the nodatas with zeros.<br>This is why I created the Make01Seasonal function in GAPAnalysis.data https://github.com/nmtarr/GAPAnalysis/blob/master/gapanalysis/data.py, but that also expands the extent to CONUS.  Open source challenge 2 deals with reclassifying rasters, which is a solution to this issue."
   ]
  }
 ],
 "metadata": {
  "kernelspec": {
   "display_name": "Python 2",
   "language": "python",
   "name": "python2"
  },
  "language_info": {
   "codemirror_mode": {
    "name": "ipython",
    "version": 2
   },
   "file_extension": ".py",
   "mimetype": "text/x-python",
   "name": "python",
   "nbconvert_exporter": "python",
   "pygments_lexer": "ipython2",
   "version": "2.7.15"
  }
 },
 "nbformat": 4,
 "nbformat_minor": 2
}
